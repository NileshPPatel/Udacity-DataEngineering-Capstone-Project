{
 "cells": [
  {
   "cell_type": "markdown",
   "metadata": {
    "editable": true
   },
   "source": [
    "# US Immigration Data Model\n",
    "### Data Engineering Capstone Project\n",
    "\n",
    "#### Project Summary\n",
    "This project creates an ETL pipeline to load data from various sources and clean and process the data into dimensional tables. The dimensional tables can be used to answer questions related to port of entry states from which immigrants were entering the United States, as well as details about the immigrants themselves. e.g. What is the median age in the state where the most migrants enter with a B2 visa type?\n",
    "\n",
    "The project follows the follow steps:\n",
    "* Step 1: Scope the Project and Gather Data\n",
    "* Step 2: Explore and Assess the Data\n",
    "* Step 3: Define the Data Model\n",
    "* Step 4: Run ETL to Model the Data\n",
    "* Step 5: Complete Project Write Up"
   ]
  },
  {
   "cell_type": "code",
   "execution_count": 1,
   "metadata": {
    "editable": true
   },
   "outputs": [],
   "source": [
    "import pandas as pd\n",
    "import configparser\n",
    "from datetime import datetime\n",
    "import os\n",
    "from pyspark.sql import SparkSession\n",
    "from pyspark.sql.functions import udf, col, when, isnan, count\n",
    "from datetime import datetime\n",
    "from pyspark.sql.functions import year, month, dayofmonth, hour,\\\n",
    "    weekofyear, date_format, monotonically_increasing_id\n",
    "from pyspark.sql.types import StructType as R, StructField as Fld,\\\n",
    "    DecimalType, DoubleType as Dbl, StringType as Str, IntegerType as Int,\\\n",
    "    TimestampType as Timestamp, DateType as Date, LongType as Long,\\\n",
    "    datetime as DateTime\n",
    "import matplotlib.pyplot as plt"
   ]
  },
  {
   "cell_type": "markdown",
   "metadata": {
    "editable": true
   },
   "source": [
    "### Step 1: Scope the Project and Gather Data\n",
    "\n",
    "#### Scope\n",
    "The Udacity provided project has been used. This project creates an ETL pipeline that loads data from various sources into staging tables, then cleans and processes the data into a set of dimensional tables to be queried using Spark and Python (including Pyspark and Pandas). Input data - The immigration dataset from US I94 Immigration data, U.S. city demographic dataset from OpenSoft and world temperature dataset from Kaggle were used. Output data - Parquet files consisting of processed data in a Star Schema dimensional model.\n",
    "\n",
    "#### Describe and Gather Data \n",
    "The following datasets were used:\n",
    "* **I94 Immigration Data**: From the US National Tourism and Trade Office.\n",
    "    * Data consists of US immigration data for 2016 (Jan - Dec)\n",
    "    * Location: data/18-83510-I94-Data-2016\n",
    "    * Link: https://travel.trade.gov/research/reports/i94/historical/2016.html\n",
    "    * Description: A data dictionary is provided in the file I94_SAS_Labels_Descriptions.SAS\n",
    "        * There is a file for each month of the year. An example file name is i94_apr16_sub.sas7bdat\n",
    "        * There are 28 columns with information regarding arrival date, citizenship, country of residence, etc. \n",
    " \n",
    " \n",
    "* **I94 Country Codes**: From the US National Tourism and Trade Office.\n",
    "    * Data consists of I94CIT codes from US immigration data for 2016 (Jan - Dec)\n",
    "    * Location: data/country_codes_i94.csv\n",
    "    * Link: https://travel.trade.gov/research/reports/i94/historical/2016.html\n",
    "    * Description: Created from the data dictionary provided in the file I94_SAS_Labels_Descriptions.SAS\n",
    "        * There is a single csv file\n",
    "        * There are 2 columns with information regarding I94CIT code and country name. \n",
    "\n",
    "\n",
    "* **I94 Port Codes**: From the US National Tourism and Trade Office.\n",
    "    * Data consists of I94PORT codes from US immigration data for 2016 (Jan - Dec)\n",
    "    * Location: data/port_codes_i94.csv\n",
    "    * Link: https://travel.trade.gov/research/reports/i94/historical/2016.html\n",
    "    * Description: Created from the data dictionary provided in the file I94_SAS_Labels_Descriptions.SAS\n",
    "        * There is a single csv file\n",
    "        * There are 3 columns with information regarding I94PORT code, port name and port state. \n",
    "\n",
    "\n",
    "* **U.S. City Demographic Data**: From OpenSoft.\n",
    "    * This data comes from the US Census Bureau's 2015 American Community Survey\n",
    "    * Location: data/us-cities-demographics.csv\n",
    "    * Link: https://public.opendatasoft.com/explore/dataset/us-cities-demographics/export/\n",
    "    * Description: Demographics of all US cities and census-designated places with a population greater or equal to 65,000. \n",
    "        * There is a single csv file\n",
    "        * There are 12 columns with information regarding city, state, median age, population, etc. "
   ]
  },
  {
   "cell_type": "markdown",
   "metadata": {
    "editable": true
   },
   "source": [
    "### 1.1 Setup Config"
   ]
  },
  {
   "cell_type": "code",
   "execution_count": 2,
   "metadata": {
    "editable": true
   },
   "outputs": [
    {
     "name": "stdout",
     "output_type": "stream",
     "text": [
      "input_data_immigration path: ../../data/18-83510-I94-Data-2016/i94_jan16_sub.sas7bdat\n",
      "input_data_countries path: data/country_codes_i94.csv\n",
      "input_data_ports path: data/port_codes_i94.csv\n",
      "input_data_cities path: data/us-cities-demographics.csv\n",
      "output_data_staging path: data/output_data/staging/\n",
      "output_data_model path: data/output_data/model/\n"
     ]
    }
   ],
   "source": [
    "# Read config file\n",
    "config = configparser.ConfigParser()\n",
    "config.read_file(open('dl.cfg'))\n",
    "\n",
    "os.environ['AWS_ACCESS_KEY_ID'] = config['AWS_KEY']['AWS_ACCESS_KEY_ID']\n",
    "os.environ['AWS_SECRET_ACCESS_KEY'] = config['AWS_KEY']['AWS_SECRET_ACCESS_KEY']\n",
    "\n",
    "# To use AWS storage, change the config paths below to use S3_DATA instead of DATA\n",
    "input_data_immigration = config['DATA']['INPUT_DATA_IMMIGRATION'] \n",
    "input_data_countries = config['DATA']['INPUT_DATA_COUNTRIES']\n",
    "input_data_ports = config['DATA']['INPUT_DATA_PORTS']\n",
    "input_data_cities = config['DATA']['INPUT_DATA_CITIES']\n",
    "output_data_staging = config['DATA']['OUTPUT_DATA_STAGING']\n",
    "output_data_model = config['DATA']['OUTPUT_DATA_MODEL']\n",
    " \n",
    "print('input_data_immigration path: {}'.format(input_data_immigration)) \n",
    "print('input_data_countries path: {}'.format(input_data_countries))\n",
    "print('input_data_ports path: {}'.format(input_data_ports))\n",
    "print('input_data_cities path: {}'.format(input_data_cities))\n",
    "print('output_data_staging path: {}'.format(output_data_staging)) \n",
    "print('output_data_model path: {}'.format(output_data_model)) "
   ]
  },
  {
   "cell_type": "markdown",
   "metadata": {
    "editable": true
   },
   "source": [
    "### 1.2 Read in the data"
   ]
  },
  {
   "cell_type": "code",
   "execution_count": 3,
   "metadata": {
    "editable": true
   },
   "outputs": [],
   "source": [
    "# Read immigration data:\n",
    "iterator = pd.read_sas(input_data_immigration, 'sas7bdat', encoding='ISO-8859-1',\\\n",
    "           chunksize=100000) \n",
    "immigration_df = next(iterator)"
   ]
  },
  {
   "cell_type": "code",
   "execution_count": 4,
   "metadata": {
    "editable": true
   },
   "outputs": [
    {
     "name": "stdout",
     "output_type": "stream",
     "text": [
      "['cicid', 'i94yr', 'i94mon', 'i94cit', 'i94res', 'i94port', 'arrdate', 'i94mode', 'i94addr', 'depdate', 'i94bir', 'i94visa', 'count', 'dtadfile', 'visapost', 'occup', 'entdepa', 'entdepd', 'entdepu', 'matflag', 'biryear', 'dtaddto', 'gender', 'insnum', 'airline', 'admnum', 'fltno', 'visatype']\n",
      "(100000, 28)\n"
     ]
    },
    {
     "data": {
      "text/html": [
       "<div>\n",
       "<style scoped>\n",
       "    .dataframe tbody tr th:only-of-type {\n",
       "        vertical-align: middle;\n",
       "    }\n",
       "\n",
       "    .dataframe tbody tr th {\n",
       "        vertical-align: top;\n",
       "    }\n",
       "\n",
       "    .dataframe thead th {\n",
       "        text-align: right;\n",
       "    }\n",
       "</style>\n",
       "<table border=\"1\" class=\"dataframe\">\n",
       "  <thead>\n",
       "    <tr style=\"text-align: right;\">\n",
       "      <th></th>\n",
       "      <th>cicid</th>\n",
       "      <th>i94yr</th>\n",
       "      <th>i94mon</th>\n",
       "      <th>i94cit</th>\n",
       "      <th>i94res</th>\n",
       "      <th>i94port</th>\n",
       "      <th>arrdate</th>\n",
       "      <th>i94mode</th>\n",
       "      <th>i94addr</th>\n",
       "      <th>depdate</th>\n",
       "      <th>...</th>\n",
       "      <th>entdepu</th>\n",
       "      <th>matflag</th>\n",
       "      <th>biryear</th>\n",
       "      <th>dtaddto</th>\n",
       "      <th>gender</th>\n",
       "      <th>insnum</th>\n",
       "      <th>airline</th>\n",
       "      <th>admnum</th>\n",
       "      <th>fltno</th>\n",
       "      <th>visatype</th>\n",
       "    </tr>\n",
       "  </thead>\n",
       "  <tbody>\n",
       "    <tr>\n",
       "      <th>0</th>\n",
       "      <td>7.0</td>\n",
       "      <td>2016.0</td>\n",
       "      <td>1.0</td>\n",
       "      <td>101.0</td>\n",
       "      <td>101.0</td>\n",
       "      <td>BOS</td>\n",
       "      <td>20465.0</td>\n",
       "      <td>1.0</td>\n",
       "      <td>MA</td>\n",
       "      <td>NaN</td>\n",
       "      <td>...</td>\n",
       "      <td>NaN</td>\n",
       "      <td>NaN</td>\n",
       "      <td>1996.0</td>\n",
       "      <td>D/S</td>\n",
       "      <td>M</td>\n",
       "      <td>NaN</td>\n",
       "      <td>LH</td>\n",
       "      <td>346608285.0</td>\n",
       "      <td>424</td>\n",
       "      <td>F1</td>\n",
       "    </tr>\n",
       "    <tr>\n",
       "      <th>1</th>\n",
       "      <td>8.0</td>\n",
       "      <td>2016.0</td>\n",
       "      <td>1.0</td>\n",
       "      <td>101.0</td>\n",
       "      <td>101.0</td>\n",
       "      <td>BOS</td>\n",
       "      <td>20465.0</td>\n",
       "      <td>1.0</td>\n",
       "      <td>MA</td>\n",
       "      <td>NaN</td>\n",
       "      <td>...</td>\n",
       "      <td>NaN</td>\n",
       "      <td>NaN</td>\n",
       "      <td>1996.0</td>\n",
       "      <td>D/S</td>\n",
       "      <td>M</td>\n",
       "      <td>NaN</td>\n",
       "      <td>LH</td>\n",
       "      <td>346627585.0</td>\n",
       "      <td>424</td>\n",
       "      <td>F1</td>\n",
       "    </tr>\n",
       "    <tr>\n",
       "      <th>2</th>\n",
       "      <td>9.0</td>\n",
       "      <td>2016.0</td>\n",
       "      <td>1.0</td>\n",
       "      <td>101.0</td>\n",
       "      <td>101.0</td>\n",
       "      <td>BOS</td>\n",
       "      <td>20469.0</td>\n",
       "      <td>1.0</td>\n",
       "      <td>CT</td>\n",
       "      <td>20480.0</td>\n",
       "      <td>...</td>\n",
       "      <td>NaN</td>\n",
       "      <td>M</td>\n",
       "      <td>1999.0</td>\n",
       "      <td>07152016</td>\n",
       "      <td>F</td>\n",
       "      <td>NaN</td>\n",
       "      <td>AF</td>\n",
       "      <td>381092385.0</td>\n",
       "      <td>338</td>\n",
       "      <td>B2</td>\n",
       "    </tr>\n",
       "    <tr>\n",
       "      <th>3</th>\n",
       "      <td>10.0</td>\n",
       "      <td>2016.0</td>\n",
       "      <td>1.0</td>\n",
       "      <td>101.0</td>\n",
       "      <td>101.0</td>\n",
       "      <td>BOS</td>\n",
       "      <td>20469.0</td>\n",
       "      <td>1.0</td>\n",
       "      <td>CT</td>\n",
       "      <td>20499.0</td>\n",
       "      <td>...</td>\n",
       "      <td>NaN</td>\n",
       "      <td>M</td>\n",
       "      <td>1971.0</td>\n",
       "      <td>07152016</td>\n",
       "      <td>F</td>\n",
       "      <td>NaN</td>\n",
       "      <td>AF</td>\n",
       "      <td>381087885.0</td>\n",
       "      <td>338</td>\n",
       "      <td>B2</td>\n",
       "    </tr>\n",
       "    <tr>\n",
       "      <th>4</th>\n",
       "      <td>11.0</td>\n",
       "      <td>2016.0</td>\n",
       "      <td>1.0</td>\n",
       "      <td>101.0</td>\n",
       "      <td>101.0</td>\n",
       "      <td>BOS</td>\n",
       "      <td>20469.0</td>\n",
       "      <td>1.0</td>\n",
       "      <td>CT</td>\n",
       "      <td>20499.0</td>\n",
       "      <td>...</td>\n",
       "      <td>NaN</td>\n",
       "      <td>M</td>\n",
       "      <td>2004.0</td>\n",
       "      <td>07152016</td>\n",
       "      <td>M</td>\n",
       "      <td>NaN</td>\n",
       "      <td>AF</td>\n",
       "      <td>381078685.0</td>\n",
       "      <td>338</td>\n",
       "      <td>B2</td>\n",
       "    </tr>\n",
       "  </tbody>\n",
       "</table>\n",
       "<p>5 rows × 28 columns</p>\n",
       "</div>"
      ],
      "text/plain": [
       "   cicid   i94yr  i94mon  i94cit  i94res i94port  arrdate  i94mode i94addr  \\\n",
       "0    7.0  2016.0     1.0   101.0   101.0     BOS  20465.0      1.0      MA   \n",
       "1    8.0  2016.0     1.0   101.0   101.0     BOS  20465.0      1.0      MA   \n",
       "2    9.0  2016.0     1.0   101.0   101.0     BOS  20469.0      1.0      CT   \n",
       "3   10.0  2016.0     1.0   101.0   101.0     BOS  20469.0      1.0      CT   \n",
       "4   11.0  2016.0     1.0   101.0   101.0     BOS  20469.0      1.0      CT   \n",
       "\n",
       "   depdate   ...     entdepu  matflag  biryear   dtaddto gender insnum  \\\n",
       "0      NaN   ...         NaN      NaN   1996.0       D/S      M    NaN   \n",
       "1      NaN   ...         NaN      NaN   1996.0       D/S      M    NaN   \n",
       "2  20480.0   ...         NaN        M   1999.0  07152016      F    NaN   \n",
       "3  20499.0   ...         NaN        M   1971.0  07152016      F    NaN   \n",
       "4  20499.0   ...         NaN        M   2004.0  07152016      M    NaN   \n",
       "\n",
       "  airline       admnum fltno visatype  \n",
       "0      LH  346608285.0   424       F1  \n",
       "1      LH  346627585.0   424       F1  \n",
       "2      AF  381092385.0   338       B2  \n",
       "3      AF  381087885.0   338       B2  \n",
       "4      AF  381078685.0   338       B2  \n",
       "\n",
       "[5 rows x 28 columns]"
      ]
     },
     "execution_count": 4,
     "metadata": {},
     "output_type": "execute_result"
    }
   ],
   "source": [
    "print(list(immigration_df.columns.values))\n",
    "print(immigration_df.shape)\n",
    "immigration_df.head()"
   ]
  },
  {
   "cell_type": "code",
   "execution_count": 5,
   "metadata": {
    "editable": true
   },
   "outputs": [],
   "source": [
    "# Read Country data:\n",
    "country_df = pd.read_csv(input_data_countries, header=0, sep=';')"
   ]
  },
  {
   "cell_type": "code",
   "execution_count": 6,
   "metadata": {
    "editable": true
   },
   "outputs": [
    {
     "name": "stdout",
     "output_type": "stream",
     "text": [
      "['i94cit', 'country_name']\n",
      "(289, 2)\n"
     ]
    },
    {
     "data": {
      "text/html": [
       "<div>\n",
       "<style scoped>\n",
       "    .dataframe tbody tr th:only-of-type {\n",
       "        vertical-align: middle;\n",
       "    }\n",
       "\n",
       "    .dataframe tbody tr th {\n",
       "        vertical-align: top;\n",
       "    }\n",
       "\n",
       "    .dataframe thead th {\n",
       "        text-align: right;\n",
       "    }\n",
       "</style>\n",
       "<table border=\"1\" class=\"dataframe\">\n",
       "  <thead>\n",
       "    <tr style=\"text-align: right;\">\n",
       "      <th></th>\n",
       "      <th>i94cit</th>\n",
       "      <th>country_name</th>\n",
       "    </tr>\n",
       "  </thead>\n",
       "  <tbody>\n",
       "    <tr>\n",
       "      <th>0</th>\n",
       "      <td>582</td>\n",
       "      <td>MEXICO</td>\n",
       "    </tr>\n",
       "    <tr>\n",
       "      <th>1</th>\n",
       "      <td>236</td>\n",
       "      <td>AFGHANISTAN</td>\n",
       "    </tr>\n",
       "    <tr>\n",
       "      <th>2</th>\n",
       "      <td>101</td>\n",
       "      <td>ALBANIA</td>\n",
       "    </tr>\n",
       "    <tr>\n",
       "      <th>3</th>\n",
       "      <td>316</td>\n",
       "      <td>ALGERIA</td>\n",
       "    </tr>\n",
       "    <tr>\n",
       "      <th>4</th>\n",
       "      <td>102</td>\n",
       "      <td>ANDORRA</td>\n",
       "    </tr>\n",
       "  </tbody>\n",
       "</table>\n",
       "</div>"
      ],
      "text/plain": [
       "   i94cit country_name\n",
       "0     582       MEXICO\n",
       "1     236  AFGHANISTAN\n",
       "2     101      ALBANIA\n",
       "3     316      ALGERIA\n",
       "4     102      ANDORRA"
      ]
     },
     "execution_count": 6,
     "metadata": {},
     "output_type": "execute_result"
    }
   ],
   "source": [
    "print(list(country_df.columns.values))\n",
    "print(country_df.shape)\n",
    "country_df.head()"
   ]
  },
  {
   "cell_type": "code",
   "execution_count": 7,
   "metadata": {
    "editable": true
   },
   "outputs": [],
   "source": [
    "# Read Port data:\n",
    "port_df = pd.read_csv(input_data_ports, header=0, sep=',')"
   ]
  },
  {
   "cell_type": "code",
   "execution_count": 8,
   "metadata": {
    "editable": true
   },
   "outputs": [
    {
     "name": "stdout",
     "output_type": "stream",
     "text": [
      "['i94port', 'port_name', 'port_state_code']\n",
      "(660, 3)\n"
     ]
    },
    {
     "data": {
      "text/html": [
       "<div>\n",
       "<style scoped>\n",
       "    .dataframe tbody tr th:only-of-type {\n",
       "        vertical-align: middle;\n",
       "    }\n",
       "\n",
       "    .dataframe tbody tr th {\n",
       "        vertical-align: top;\n",
       "    }\n",
       "\n",
       "    .dataframe thead th {\n",
       "        text-align: right;\n",
       "    }\n",
       "</style>\n",
       "<table border=\"1\" class=\"dataframe\">\n",
       "  <thead>\n",
       "    <tr style=\"text-align: right;\">\n",
       "      <th></th>\n",
       "      <th>i94port</th>\n",
       "      <th>port_name</th>\n",
       "      <th>port_state_code</th>\n",
       "    </tr>\n",
       "  </thead>\n",
       "  <tbody>\n",
       "    <tr>\n",
       "      <th>0</th>\n",
       "      <td>ALC</td>\n",
       "      <td>ALCAN</td>\n",
       "      <td>AK</td>\n",
       "    </tr>\n",
       "    <tr>\n",
       "      <th>1</th>\n",
       "      <td>ANC</td>\n",
       "      <td>ANCHORAGE</td>\n",
       "      <td>AK</td>\n",
       "    </tr>\n",
       "    <tr>\n",
       "      <th>2</th>\n",
       "      <td>BAR</td>\n",
       "      <td>BAKER AAF - BAKER ISLAND</td>\n",
       "      <td>AK</td>\n",
       "    </tr>\n",
       "    <tr>\n",
       "      <th>3</th>\n",
       "      <td>DAC</td>\n",
       "      <td>DALTONS CACHE</td>\n",
       "      <td>AK</td>\n",
       "    </tr>\n",
       "    <tr>\n",
       "      <th>4</th>\n",
       "      <td>PIZ</td>\n",
       "      <td>DEW STATION PT LAY DEW</td>\n",
       "      <td>AK</td>\n",
       "    </tr>\n",
       "  </tbody>\n",
       "</table>\n",
       "</div>"
      ],
      "text/plain": [
       "  i94port                 port_name port_state_code\n",
       "0     ALC                     ALCAN              AK\n",
       "1     ANC                 ANCHORAGE              AK\n",
       "2     BAR  BAKER AAF - BAKER ISLAND              AK\n",
       "3     DAC             DALTONS CACHE              AK\n",
       "4     PIZ    DEW STATION PT LAY DEW              AK"
      ]
     },
     "execution_count": 8,
     "metadata": {},
     "output_type": "execute_result"
    }
   ],
   "source": [
    "print(list(port_df.columns.values))\n",
    "print(port_df.shape)\n",
    "port_df.head()"
   ]
  },
  {
   "cell_type": "code",
   "execution_count": 9,
   "metadata": {
    "editable": true
   },
   "outputs": [],
   "source": [
    "# Read city demographic code data:\n",
    "city_demographic_df = pd.read_csv(input_data_cities, header=0, sep=';')"
   ]
  },
  {
   "cell_type": "code",
   "execution_count": 10,
   "metadata": {
    "editable": true
   },
   "outputs": [
    {
     "name": "stdout",
     "output_type": "stream",
     "text": [
      "['city', 'state', 'median_age', 'male_population', 'female_population', 'total_population', 'number_of_veterans', 'foreign_born', 'average_household_size', 'state_code', 'race', 'count']\n",
      "(2891, 12)\n"
     ]
    },
    {
     "data": {
      "text/html": [
       "<div>\n",
       "<style scoped>\n",
       "    .dataframe tbody tr th:only-of-type {\n",
       "        vertical-align: middle;\n",
       "    }\n",
       "\n",
       "    .dataframe tbody tr th {\n",
       "        vertical-align: top;\n",
       "    }\n",
       "\n",
       "    .dataframe thead th {\n",
       "        text-align: right;\n",
       "    }\n",
       "</style>\n",
       "<table border=\"1\" class=\"dataframe\">\n",
       "  <thead>\n",
       "    <tr style=\"text-align: right;\">\n",
       "      <th></th>\n",
       "      <th>city</th>\n",
       "      <th>state</th>\n",
       "      <th>median_age</th>\n",
       "      <th>male_population</th>\n",
       "      <th>female_population</th>\n",
       "      <th>total_population</th>\n",
       "      <th>number_of_veterans</th>\n",
       "      <th>foreign_born</th>\n",
       "      <th>average_household_size</th>\n",
       "      <th>state_code</th>\n",
       "      <th>race</th>\n",
       "      <th>count</th>\n",
       "    </tr>\n",
       "  </thead>\n",
       "  <tbody>\n",
       "    <tr>\n",
       "      <th>0</th>\n",
       "      <td>Silver Spring</td>\n",
       "      <td>Maryland</td>\n",
       "      <td>33.8</td>\n",
       "      <td>40601.0</td>\n",
       "      <td>41862.0</td>\n",
       "      <td>82463</td>\n",
       "      <td>1562.0</td>\n",
       "      <td>30908.0</td>\n",
       "      <td>2.60</td>\n",
       "      <td>MD</td>\n",
       "      <td>Hispanic or Latino</td>\n",
       "      <td>25924</td>\n",
       "    </tr>\n",
       "    <tr>\n",
       "      <th>1</th>\n",
       "      <td>Quincy</td>\n",
       "      <td>Massachusetts</td>\n",
       "      <td>41.0</td>\n",
       "      <td>44129.0</td>\n",
       "      <td>49500.0</td>\n",
       "      <td>93629</td>\n",
       "      <td>4147.0</td>\n",
       "      <td>32935.0</td>\n",
       "      <td>2.39</td>\n",
       "      <td>MA</td>\n",
       "      <td>White</td>\n",
       "      <td>58723</td>\n",
       "    </tr>\n",
       "    <tr>\n",
       "      <th>2</th>\n",
       "      <td>Hoover</td>\n",
       "      <td>Alabama</td>\n",
       "      <td>38.5</td>\n",
       "      <td>38040.0</td>\n",
       "      <td>46799.0</td>\n",
       "      <td>84839</td>\n",
       "      <td>4819.0</td>\n",
       "      <td>8229.0</td>\n",
       "      <td>2.58</td>\n",
       "      <td>AL</td>\n",
       "      <td>Asian</td>\n",
       "      <td>4759</td>\n",
       "    </tr>\n",
       "    <tr>\n",
       "      <th>3</th>\n",
       "      <td>Rancho Cucamonga</td>\n",
       "      <td>California</td>\n",
       "      <td>34.5</td>\n",
       "      <td>88127.0</td>\n",
       "      <td>87105.0</td>\n",
       "      <td>175232</td>\n",
       "      <td>5821.0</td>\n",
       "      <td>33878.0</td>\n",
       "      <td>3.18</td>\n",
       "      <td>CA</td>\n",
       "      <td>Black or African-American</td>\n",
       "      <td>24437</td>\n",
       "    </tr>\n",
       "    <tr>\n",
       "      <th>4</th>\n",
       "      <td>Newark</td>\n",
       "      <td>New Jersey</td>\n",
       "      <td>34.6</td>\n",
       "      <td>138040.0</td>\n",
       "      <td>143873.0</td>\n",
       "      <td>281913</td>\n",
       "      <td>5829.0</td>\n",
       "      <td>86253.0</td>\n",
       "      <td>2.73</td>\n",
       "      <td>NJ</td>\n",
       "      <td>White</td>\n",
       "      <td>76402</td>\n",
       "    </tr>\n",
       "  </tbody>\n",
       "</table>\n",
       "</div>"
      ],
      "text/plain": [
       "               city          state  median_age  male_population  \\\n",
       "0     Silver Spring       Maryland        33.8          40601.0   \n",
       "1            Quincy  Massachusetts        41.0          44129.0   \n",
       "2            Hoover        Alabama        38.5          38040.0   \n",
       "3  Rancho Cucamonga     California        34.5          88127.0   \n",
       "4            Newark     New Jersey        34.6         138040.0   \n",
       "\n",
       "   female_population  total_population  number_of_veterans  foreign_born  \\\n",
       "0            41862.0             82463              1562.0       30908.0   \n",
       "1            49500.0             93629              4147.0       32935.0   \n",
       "2            46799.0             84839              4819.0        8229.0   \n",
       "3            87105.0            175232              5821.0       33878.0   \n",
       "4           143873.0            281913              5829.0       86253.0   \n",
       "\n",
       "   average_household_size state_code                       race  count  \n",
       "0                    2.60         MD         Hispanic or Latino  25924  \n",
       "1                    2.39         MA                      White  58723  \n",
       "2                    2.58         AL                      Asian   4759  \n",
       "3                    3.18         CA  Black or African-American  24437  \n",
       "4                    2.73         NJ                      White  76402  "
      ]
     },
     "execution_count": 10,
     "metadata": {},
     "output_type": "execute_result"
    }
   ],
   "source": [
    "print(list(city_demographic_df.columns.values))\n",
    "print(city_demographic_df.shape)\n",
    "city_demographic_df.head()"
   ]
  },
  {
   "cell_type": "markdown",
   "metadata": {
    "editable": true
   },
   "source": [
    "### 1.3 Create a Spark Session"
   ]
  },
  {
   "cell_type": "code",
   "execution_count": 11,
   "metadata": {
    "editable": true
   },
   "outputs": [],
   "source": [
    "spark = SparkSession\\\n",
    "    .builder\\\n",
    "    .config(\"spark.jars.packages\",\"saurfang:spark-sas7bdat:2.0.0-s_2.11\")\\\n",
    "    .enableHiveSupport().getOrCreate()  "
   ]
  },
  {
   "cell_type": "markdown",
   "metadata": {
    "editable": true
   },
   "source": [
    "### 1.4 Read input data into Spark"
   ]
  },
  {
   "cell_type": "markdown",
   "metadata": {
    "editable": true
   },
   "source": [
    "#### 1.4.1 Read immigration data into Spark"
   ]
  },
  {
   "cell_type": "code",
   "execution_count": 12,
   "metadata": {
    "editable": true
   },
   "outputs": [],
   "source": [
    "immigration_schema = R([\n",
    "        Fld(\"cicid\", Dbl(), False),\n",
    "        Fld(\"i94yr\", Dbl(), False),\n",
    "        Fld(\"i94mon\", Dbl(), False),\n",
    "        Fld(\"i94cit\", Dbl(), False),\n",
    "        Fld(\"i94res\", Dbl(), False),\n",
    "        Fld(\"i94port\", Str()),\n",
    "        Fld(\"arrdate\", Dbl()),\n",
    "        Fld(\"i94mode\", Dbl()),\n",
    "        Fld(\"i94addr\", Str()), \n",
    "        Fld(\"depdate\", Dbl()), \n",
    "        Fld(\"i94bir\", Dbl()),\n",
    "        Fld(\"i94visa\", Dbl()),\n",
    "        Fld(\"count\", Dbl()),\n",
    "        Fld(\"dtadfile\", Str()),\n",
    "        Fld(\"visapost\", Str()),\n",
    "        Fld(\"occup\", Str()),\n",
    "        Fld(\"entdepa\", Str()),\n",
    "        Fld(\"entdepd\", Str()),\n",
    "        Fld(\"entdepu\", Str()),\n",
    "        Fld(\"matflag\", Str()),\n",
    "        Fld(\"biryear\", Dbl()),\n",
    "        Fld(\"dtaddto\", Str()),\n",
    "        Fld(\"gender\", Str()),\n",
    "        Fld(\"insnum\", Str()),\n",
    "        Fld(\"airline\", Str()),\n",
    "        Fld(\"admnum\", Dbl()),\n",
    "        Fld(\"fltno\", Str()),\n",
    "        Fld(\"visatype\", Str())\n",
    "    ])"
   ]
  },
  {
   "cell_type": "code",
   "execution_count": 13,
   "metadata": {
    "editable": true
   },
   "outputs": [],
   "source": [
    "#Read immigration data directly from sas files\n",
    "#immigration_df_spark = spark.read.format('com.github.saurfang.sas.spark').load(input_data_immigration, schema=immigration_schema)\n",
    "#Read immigration data from Pandas dataframe\n",
    "immigration_df_spark = spark.createDataFrame(immigration_df, schema=immigration_schema)"
   ]
  },
  {
   "cell_type": "markdown",
   "metadata": {
    "editable": true
   },
   "source": [
    "#### 1.4.2 Read country data into Spark"
   ]
  },
  {
   "cell_type": "code",
   "execution_count": 14,
   "metadata": {
    "editable": true
   },
   "outputs": [],
   "source": [
    "country_schema = R([\n",
    "        Fld(\"i94cit\", Dbl()),\n",
    "        Fld(\"country_name\", Str()) \n",
    "    ])"
   ]
  },
  {
   "cell_type": "code",
   "execution_count": 15,
   "metadata": {
    "editable": true
   },
   "outputs": [],
   "source": [
    "countries_df_spark = spark.read.csv(input_data_countries, schema=country_schema,\\\n",
    "                     header=\"true\", sep=\";\")"
   ]
  },
  {
   "cell_type": "markdown",
   "metadata": {
    "editable": true
   },
   "source": [
    "#### 1.4.3 Read port data into Spark"
   ]
  },
  {
   "cell_type": "code",
   "execution_count": 16,
   "metadata": {
    "editable": true
   },
   "outputs": [],
   "source": [
    "port_schema = R([ \n",
    "        Fld(\"i94port\", Str()), \n",
    "        Fld(\"port_name\", Str()),\n",
    "        Fld(\"port_state_code\", Str()) \n",
    "    ])"
   ]
  },
  {
   "cell_type": "code",
   "execution_count": 17,
   "metadata": {
    "editable": true
   },
   "outputs": [],
   "source": [
    "ports_df_spark = spark.read.csv(input_data_ports, schema=port_schema, header=\"true\")"
   ]
  },
  {
   "cell_type": "markdown",
   "metadata": {
    "editable": true
   },
   "source": [
    "#### 1.4.4 Read city demographic data into Spark"
   ]
  },
  {
   "cell_type": "code",
   "execution_count": 18,
   "metadata": {
    "editable": true
   },
   "outputs": [],
   "source": [
    " city_demographics_schema = R([\n",
    "        Fld(\"city\", Str(), False),\n",
    "        Fld(\"state\", Str(), False),\n",
    "        Fld(\"median_age\", Dbl()),\n",
    "        Fld(\"male_population\", Int()),\n",
    "        Fld(\"female_population\", Int()),\n",
    "        Fld(\"total_population\", Int()),\n",
    "        Fld(\"number_of_veterans\", Int()),\n",
    "        Fld(\"foreign_born\", Int()),\n",
    "        Fld(\"average_household_size\", Dbl()),\n",
    "        Fld(\"state_code\", Str()),\n",
    "        Fld(\"race\", Str()),\n",
    "        Fld(\"count\", Int()) \n",
    "    ])"
   ]
  },
  {
   "cell_type": "code",
   "execution_count": 19,
   "metadata": {
    "editable": true
   },
   "outputs": [],
   "source": [
    " city_demographics_df_spark = spark.read.csv(input_data_cities,\\\n",
    "                              schema=city_demographics_schema, header=\"true\", sep=\";\")"
   ]
  },
  {
   "cell_type": "markdown",
   "metadata": {
    "editable": true
   },
   "source": [
    "### 1.5 Write Spark data frames to output as Parquet files"
   ]
  },
  {
   "cell_type": "code",
   "execution_count": 20,
   "metadata": {
    "editable": true
   },
   "outputs": [
    {
     "name": "stdout",
     "output_type": "stream",
     "text": [
      "2020-04-02-14-24-36-877968\n"
     ]
    }
   ],
   "source": [
    "timestamp = datetime.now().strftime('%Y-%m-%d-%H-%M-%S-%f')\n",
    "print(timestamp)"
   ]
  },
  {
   "cell_type": "markdown",
   "metadata": {
    "editable": true
   },
   "source": [
    "#### 1.5.1 Write Spark immigration data frames to output as Parquet files"
   ]
  },
  {
   "cell_type": "code",
   "execution_count": 21,
   "metadata": {
    "editable": true
   },
   "outputs": [
    {
     "name": "stdout",
     "output_type": "stream",
     "text": [
      "Output Path: data/output_data/staging/immigration_staging.parquet_2020-04-02-14-24-36-877968\n"
     ]
    }
   ],
   "source": [
    "#Write spark immigration data frame to parquet file\n",
    "immigration_path = output_data_staging + \"immigration_staging.parquet\" + \"_\" + timestamp\n",
    "print(f\"Output Path: {immigration_path}\")\n",
    "immigration_df_spark.write.parquet(immigration_path, mode=\"overwrite\") "
   ]
  },
  {
   "cell_type": "code",
   "execution_count": 22,
   "metadata": {
    "editable": true
   },
   "outputs": [
    {
     "name": "stdout",
     "output_type": "stream",
     "text": [
      "root\n",
      " |-- cicid: double (nullable = true)\n",
      " |-- i94yr: double (nullable = true)\n",
      " |-- i94mon: double (nullable = true)\n",
      " |-- i94cit: double (nullable = true)\n",
      " |-- i94res: double (nullable = true)\n",
      " |-- i94port: string (nullable = true)\n",
      " |-- arrdate: double (nullable = true)\n",
      " |-- i94mode: double (nullable = true)\n",
      " |-- i94addr: string (nullable = true)\n",
      " |-- depdate: double (nullable = true)\n",
      " |-- i94bir: double (nullable = true)\n",
      " |-- i94visa: double (nullable = true)\n",
      " |-- count: double (nullable = true)\n",
      " |-- dtadfile: string (nullable = true)\n",
      " |-- visapost: string (nullable = true)\n",
      " |-- occup: string (nullable = true)\n",
      " |-- entdepa: string (nullable = true)\n",
      " |-- entdepd: string (nullable = true)\n",
      " |-- entdepu: string (nullable = true)\n",
      " |-- matflag: string (nullable = true)\n",
      " |-- biryear: double (nullable = true)\n",
      " |-- dtaddto: string (nullable = true)\n",
      " |-- gender: string (nullable = true)\n",
      " |-- insnum: string (nullable = true)\n",
      " |-- airline: string (nullable = true)\n",
      " |-- admnum: double (nullable = true)\n",
      " |-- fltno: string (nullable = true)\n",
      " |-- visatype: string (nullable = true)\n",
      "\n",
      "+-----+------+------+------+------+-------+-------+-------+-------+-------+------+-------+-----+--------+--------+-----+-------+-------+-------+-------+-------+--------+------+------+-------+------------+-----+--------+\n",
      "|cicid| i94yr|i94mon|i94cit|i94res|i94port|arrdate|i94mode|i94addr|depdate|i94bir|i94visa|count|dtadfile|visapost|occup|entdepa|entdepd|entdepu|matflag|biryear| dtaddto|gender|insnum|airline|      admnum|fltno|visatype|\n",
      "+-----+------+------+------+------+-------+-------+-------+-------+-------+------+-------+-----+--------+--------+-----+-------+-------+-------+-------+-------+--------+------+------+-------+------------+-----+--------+\n",
      "|  7.0|2016.0|   1.0| 101.0| 101.0|    BOS|20465.0|    1.0|     MA|    NaN|  20.0|    3.0|  1.0|     NaN|     NaN|  NaN|      T|    NaN|    NaN|    NaN| 1996.0|     D/S|     M|   NaN|     LH|3.46608285E8|  424|      F1|\n",
      "|  8.0|2016.0|   1.0| 101.0| 101.0|    BOS|20465.0|    1.0|     MA|    NaN|  20.0|    3.0|  1.0|     NaN|     NaN|  NaN|      T|    NaN|    NaN|    NaN| 1996.0|     D/S|     M|   NaN|     LH|3.46627585E8|  424|      F1|\n",
      "|  9.0|2016.0|   1.0| 101.0| 101.0|    BOS|20469.0|    1.0|     CT|20480.0|  17.0|    2.0|  1.0|     NaN|     NaN|  NaN|      T|      N|    NaN|      M| 1999.0|07152016|     F|   NaN|     AF|3.81092385E8|  338|      B2|\n",
      "| 10.0|2016.0|   1.0| 101.0| 101.0|    BOS|20469.0|    1.0|     CT|20499.0|  45.0|    2.0|  1.0|     NaN|     NaN|  NaN|      T|      N|    NaN|      M| 1971.0|07152016|     F|   NaN|     AF|3.81087885E8|  338|      B2|\n",
      "| 11.0|2016.0|   1.0| 101.0| 101.0|    BOS|20469.0|    1.0|     CT|20499.0|  12.0|    2.0|  1.0|     NaN|     NaN|  NaN|      T|      N|    NaN|      M| 2004.0|07152016|     M|   NaN|     AF|3.81078685E8|  338|      B2|\n",
      "+-----+------+------+------+------+-------+-------+-------+-------+-------+------+-------+-----+--------+--------+-----+-------+-------+-------+-------+-------+--------+------+------+-------+------------+-----+--------+\n",
      "only showing top 5 rows\n",
      "\n"
     ]
    }
   ],
   "source": [
    "#Read spark immigration data frame from parquet file \n",
    "immigration_df_spark = spark.read.parquet(immigration_path)\n",
    "immigration_df_spark.printSchema()\n",
    "immigration_df_spark.show(5)"
   ]
  },
  {
   "cell_type": "markdown",
   "metadata": {
    "editable": true
   },
   "source": [
    "#### 1.5.2 Write Spark country data frames to output as Parquet files"
   ]
  },
  {
   "cell_type": "code",
   "execution_count": 23,
   "metadata": {
    "editable": true
   },
   "outputs": [
    {
     "name": "stdout",
     "output_type": "stream",
     "text": [
      "Output Path: data/output_data/staging/countries_staging.parquet_2020-04-02-14-24-36-877968\n"
     ]
    }
   ],
   "source": [
    "#Write spark countries data frame to parquet file\n",
    "countries_path = output_data_staging + \"countries_staging.parquet\" + \"_\" + timestamp\n",
    "print(f\"Output Path: {countries_path}\")\n",
    "countries_df_spark.write.parquet(countries_path, mode=\"overwrite\") "
   ]
  },
  {
   "cell_type": "code",
   "execution_count": 24,
   "metadata": {
    "editable": true
   },
   "outputs": [
    {
     "name": "stdout",
     "output_type": "stream",
     "text": [
      "root\n",
      " |-- i94cit: double (nullable = true)\n",
      " |-- country_name: string (nullable = true)\n",
      "\n",
      "+------+------------+\n",
      "|i94cit|country_name|\n",
      "+------+------------+\n",
      "| 582.0|      MEXICO|\n",
      "| 236.0| AFGHANISTAN|\n",
      "| 101.0|     ALBANIA|\n",
      "| 316.0|     ALGERIA|\n",
      "| 102.0|     ANDORRA|\n",
      "+------+------------+\n",
      "only showing top 5 rows\n",
      "\n"
     ]
    }
   ],
   "source": [
    "#Read spark countries data frame from parquet file \n",
    "countries_df_spark = spark.read.parquet(countries_path)\n",
    "countries_df_spark.printSchema()\n",
    "countries_df_spark.show(5)"
   ]
  },
  {
   "cell_type": "markdown",
   "metadata": {
    "editable": true
   },
   "source": [
    "#### 1.5.3 Write Spark port data frames to output as Parquet files"
   ]
  },
  {
   "cell_type": "code",
   "execution_count": 25,
   "metadata": {
    "editable": true
   },
   "outputs": [
    {
     "name": "stdout",
     "output_type": "stream",
     "text": [
      "Output Path: data/output_data/staging/ports_staging.parquet_2020-04-02-14-24-36-877968\n"
     ]
    }
   ],
   "source": [
    "#Write spark ports data frame to parquet file\n",
    "ports_path = output_data_staging + \"ports_staging.parquet\" + \"_\" + timestamp\n",
    "print(f\"Output Path: {ports_path}\")\n",
    "ports_df_spark.write.parquet(ports_path, mode=\"overwrite\") "
   ]
  },
  {
   "cell_type": "code",
   "execution_count": 26,
   "metadata": {
    "editable": true
   },
   "outputs": [
    {
     "name": "stdout",
     "output_type": "stream",
     "text": [
      "root\n",
      " |-- i94port: string (nullable = true)\n",
      " |-- port_name: string (nullable = true)\n",
      " |-- port_state_code: string (nullable = true)\n",
      "\n",
      "+-------+--------------------+---------------+\n",
      "|i94port|           port_name|port_state_code|\n",
      "+-------+--------------------+---------------+\n",
      "|    ALC|               ALCAN|             AK|\n",
      "|    ANC|           ANCHORAGE|             AK|\n",
      "|    BAR|BAKER AAF - BAKER...|             AK|\n",
      "|    DAC|       DALTONS CACHE|             AK|\n",
      "|    PIZ|DEW STATION PT LA...|             AK|\n",
      "+-------+--------------------+---------------+\n",
      "only showing top 5 rows\n",
      "\n"
     ]
    }
   ],
   "source": [
    "#Read spark ports data frame from parquet file \n",
    "ports_df_spark = spark.read.parquet(ports_path)\n",
    "ports_df_spark.printSchema()\n",
    "ports_df_spark.show(5)"
   ]
  },
  {
   "cell_type": "markdown",
   "metadata": {
    "editable": true
   },
   "source": [
    "#### 1.5.4 Write Spark city_demographic data frames to output as Parquet files"
   ]
  },
  {
   "cell_type": "code",
   "execution_count": 27,
   "metadata": {
    "editable": true
   },
   "outputs": [
    {
     "name": "stdout",
     "output_type": "stream",
     "text": [
      "Output Path: data/output_data/staging/city_demographics_staging.parquet_2020-04-02-14-24-36-877968\n"
     ]
    }
   ],
   "source": [
    "#Write spark cities data frame to parquet file\n",
    "city_demographics_path = output_data_staging + \"city_demographics_staging.parquet\" + \"_\" + timestamp\n",
    "print(f\"Output Path: {city_demographics_path}\")\n",
    "city_demographics_df_spark.write.parquet(city_demographics_path, mode=\"overwrite\") "
   ]
  },
  {
   "cell_type": "code",
   "execution_count": 28,
   "metadata": {
    "editable": true
   },
   "outputs": [
    {
     "name": "stdout",
     "output_type": "stream",
     "text": [
      "root\n",
      " |-- city: string (nullable = true)\n",
      " |-- state: string (nullable = true)\n",
      " |-- median_age: double (nullable = true)\n",
      " |-- male_population: integer (nullable = true)\n",
      " |-- female_population: integer (nullable = true)\n",
      " |-- total_population: integer (nullable = true)\n",
      " |-- number_of_veterans: integer (nullable = true)\n",
      " |-- foreign_born: integer (nullable = true)\n",
      " |-- average_household_size: double (nullable = true)\n",
      " |-- state_code: string (nullable = true)\n",
      " |-- race: string (nullable = true)\n",
      " |-- count: integer (nullable = true)\n",
      "\n",
      "+----------------+-------------+----------+---------------+-----------------+----------------+------------------+------------+----------------------+----------+--------------------+-----+\n",
      "|            city|        state|median_age|male_population|female_population|total_population|number_of_veterans|foreign_born|average_household_size|state_code|                race|count|\n",
      "+----------------+-------------+----------+---------------+-----------------+----------------+------------------+------------+----------------------+----------+--------------------+-----+\n",
      "|   Silver Spring|     Maryland|      33.8|          40601|            41862|           82463|              1562|       30908|                   2.6|        MD|  Hispanic or Latino|25924|\n",
      "|          Quincy|Massachusetts|      41.0|          44129|            49500|           93629|              4147|       32935|                  2.39|        MA|               White|58723|\n",
      "|          Hoover|      Alabama|      38.5|          38040|            46799|           84839|              4819|        8229|                  2.58|        AL|               Asian| 4759|\n",
      "|Rancho Cucamonga|   California|      34.5|          88127|            87105|          175232|              5821|       33878|                  3.18|        CA|Black or African-...|24437|\n",
      "|          Newark|   New Jersey|      34.6|         138040|           143873|          281913|              5829|       86253|                  2.73|        NJ|               White|76402|\n",
      "+----------------+-------------+----------+---------------+-----------------+----------------+------------------+------------+----------------------+----------+--------------------+-----+\n",
      "only showing top 5 rows\n",
      "\n"
     ]
    }
   ],
   "source": [
    "#Read spark cities data frame from parquet file\n",
    "city_demographics_df_spark = spark.read.parquet(city_demographics_path)\n",
    "city_demographics_df_spark.printSchema()\n",
    "city_demographics_df_spark.show(5)"
   ]
  },
  {
   "cell_type": "markdown",
   "metadata": {
    "editable": true
   },
   "source": [
    "### Step 2: Explore and Assess the Data\n",
    "#### 2.1 Explore the Data \n",
    "Identify data quality issues, like missing values, duplicate data, etc.\n"
   ]
  },
  {
   "cell_type": "markdown",
   "metadata": {
    "editable": true
   },
   "source": [
    "The following Data Quality issues were discovered in the data:\n",
    "* I94 Immigration Data:\n",
    "    * Missing data (either Null or NaN) values found for 9 columns\n",
    "    * depdate should be excluded from cleansing as Null values are allowed\n",
    "    \n",
    "* I94 Country Codes data: \n",
    "    * No data quality issues found\n",
    "    \n",
    "* I94 Port Codes data: \n",
    "    * Missing data (either Null or NaN) values found for port_state_code column\n",
    "    \n",
    "* U.S. City Demographic Data data:\n",
    "    * Missing data (either Null or NaN) values found for 5 columns"
   ]
  },
  {
   "cell_type": "code",
   "execution_count": 29,
   "metadata": {
    "editable": true
   },
   "outputs": [
    {
     "data": {
      "image/png": "[encoded data removed]",
      "text/plain": [
       "<matplotlib.figure.Figure at 0x7fe0797cb128>"
      ]
     },
     "metadata": {
      "needs_background": "light"
     },
     "output_type": "display_data"
    }
   ],
   "source": [
    "immigration_df_spark.select([count(when(isnan(c), c)).alias(c) for c in \n",
    "    immigration_df_spark.columns]).toPandas().T.plot(kind='bar', legend=False) \n",
    "plt.xlabel('Column Name')\n",
    "plt.ylabel('Count')\n",
    "plt.title(\"I94 Immigration NaN Count\") \n",
    "plt.show()"
   ]
  },
  {
   "cell_type": "code",
   "execution_count": 30,
   "metadata": {
    "editable": true
   },
   "outputs": [
    {
     "data": {
      "image/png": "[encoded data removed]",
      "text/plain": [
       "<matplotlib.figure.Figure at 0x7fe079429c50>"
      ]
     },
     "metadata": {
      "needs_background": "light"
     },
     "output_type": "display_data"
    }
   ],
   "source": [
    "city_demographics_df_spark.select([count(when(col(c).isNull(), c)).alias(c) for c in \n",
    "    city_demographics_df_spark.columns]).toPandas().T.plot(kind='bar', legend=False) \n",
    "plt.xlabel('Column Name')\n",
    "plt.ylabel('Count')\n",
    "plt.title(\"City Demographics Null Count\") \n",
    "plt.show()"
   ]
  },
  {
   "cell_type": "code",
   "execution_count": 31,
   "metadata": {
    "editable": true
   },
   "outputs": [
    {
     "data": {
      "image/png": "[encoded data removed]",
      "text/plain": [
       "<matplotlib.figure.Figure at 0x7fe07863c7f0>"
      ]
     },
     "metadata": {
      "needs_background": "light"
     },
     "output_type": "display_data"
    }
   ],
   "source": [
    "ports_df_spark.select([count(when(isnan(c), c)).alias(c) for c in \n",
    "    ports_df_spark.columns]).toPandas().T.plot(kind='bar', legend=False) \n",
    "plt.xlabel('Column Name')\n",
    "plt.ylabel('Count')\n",
    "plt.title(\"Ports NaN Count\") \n",
    "plt.show()"
   ]
  },
  {
   "cell_type": "code",
   "execution_count": 32,
   "metadata": {
    "editable": true
   },
   "outputs": [
    {
     "data": {
      "image/png": "[encoded data removed]",
      "text/plain": [
       "<matplotlib.figure.Figure at 0x7fe07940de10>"
      ]
     },
     "metadata": {
      "needs_background": "light"
     },
     "output_type": "display_data"
    }
   ],
   "source": [
    "countries_df_spark.select([count(when(isnan(c), c)).alias(c) for c in \n",
    "    countries_df_spark.columns]).toPandas().T.plot(kind='bar', legend=False) \n",
    "plt.xlabel('Column Name')\n",
    "plt.ylabel('Count')\n",
    "plt.title(\"Countries NaN Count\") \n",
    "plt.show()"
   ]
  },
  {
   "cell_type": "markdown",
   "metadata": {
    "editable": true
   },
   "source": [
    "#### 2.2 Cleaning Steps\n",
    "Document steps necessary to clean the data"
   ]
  },
  {
   "cell_type": "markdown",
   "metadata": {
    "editable": true
   },
   "source": [
    "The following Data Cleansing steps need to be applied to clean the data:\n",
    "* I94 Immigration data:\n",
    "    * NaN values will be replaced by either NA (string), or 0.0 (double)\n",
    "    * i94addr field with NaN values will be replaced by 99, which represents 'All Other Codes'\n",
    "    \n",
    "* I94 Port Codes data:  \n",
    "    * port_state_code field with NaN values will be replaced by XXX, which represents 'NOT REPORTED/UNKNOWN'\n",
    "    \n",
    "* U.S. City Demographic data: \n",
    "    * Null values will be replaced by either NA (string), 0 (integer) or 0.0 (double)"
   ]
  },
  {
   "cell_type": "markdown",
   "metadata": {
    "editable": true
   },
   "source": [
    "#### 2.2.1 Clean I94 immigration data"
   ]
  },
  {
   "cell_type": "code",
   "execution_count": 33,
   "metadata": {
    "editable": true
   },
   "outputs": [
    {
     "name": "stdout",
     "output_type": "stream",
     "text": [
      "+-----+------+------+------+------+-------+-------+-------+-------+-------+------+-------+-----+--------+--------+-----+-------+-------+-------+-------+-------+--------+------+------+-------+------------+-----+--------+\n",
      "|cicid| i94yr|i94mon|i94cit|i94res|i94port|arrdate|i94mode|i94addr|depdate|i94bir|i94visa|count|dtadfile|visapost|occup|entdepa|entdepd|entdepu|matflag|biryear| dtaddto|gender|insnum|airline|      admnum|fltno|visatype|\n",
      "+-----+------+------+------+------+-------+-------+-------+-------+-------+------+-------+-----+--------+--------+-----+-------+-------+-------+-------+-------+--------+------+------+-------+------------+-----+--------+\n",
      "|  7.0|2016.0|   1.0| 101.0| 101.0|    BOS|20465.0|    1.0|     MA|    0.0|  20.0|    3.0|  1.0|      NA|      NA|   NA|      T|     NA|     NA|     NA| 1996.0|     D/S|     M|    NA|     LH|3.46608285E8|  424|      F1|\n",
      "|  8.0|2016.0|   1.0| 101.0| 101.0|    BOS|20465.0|    1.0|     MA|    0.0|  20.0|    3.0|  1.0|      NA|      NA|   NA|      T|     NA|     NA|     NA| 1996.0|     D/S|     M|    NA|     LH|3.46627585E8|  424|      F1|\n",
      "|  9.0|2016.0|   1.0| 101.0| 101.0|    BOS|20469.0|    1.0|     CT|20480.0|  17.0|    2.0|  1.0|      NA|      NA|   NA|      T|      N|     NA|      M| 1999.0|07152016|     F|    NA|     AF|3.81092385E8|  338|      B2|\n",
      "| 10.0|2016.0|   1.0| 101.0| 101.0|    BOS|20469.0|    1.0|     CT|20499.0|  45.0|    2.0|  1.0|      NA|      NA|   NA|      T|      N|     NA|      M| 1971.0|07152016|     F|    NA|     AF|3.81087885E8|  338|      B2|\n",
      "| 11.0|2016.0|   1.0| 101.0| 101.0|    BOS|20469.0|    1.0|     CT|20499.0|  12.0|    2.0|  1.0|      NA|      NA|   NA|      T|      N|     NA|      M| 2004.0|07152016|     M|    NA|     AF|3.81078685E8|  338|      B2|\n",
      "+-----+------+------+------+------+-------+-------+-------+-------+-------+------+-------+-----+--------+--------+-----+-------+-------+-------+-------+-------+--------+------+------+-------+------------+-----+--------+\n",
      "only showing top 5 rows\n",
      "\n"
     ]
    }
   ],
   "source": [
    "immigration_df_spark_clean = immigration_df_spark.withColumn('depdate',\\\n",
    "                             when(isnan('depdate'),0.0).otherwise(col(\"depdate\")))\n",
    "immigration_df_spark_clean = immigration_df_spark_clean.withColumn('i94addr',\\\n",
    "                             when(isnan('i94addr'),'99').otherwise(col(\"i94addr\")))\n",
    "\n",
    "columns = ['dtadfile','visapost','occup','entdepd','entdepu','matflag','insnum']\n",
    "for column in columns:\n",
    "    immigration_df_spark_clean = immigration_df_spark_clean.withColumn(column,\\\n",
    "                                 when(isnan(col(column)),'NA').otherwise(col(column)))\n",
    "immigration_df_spark_clean.show(5)   "
   ]
  },
  {
   "cell_type": "code",
   "execution_count": 34,
   "metadata": {
    "editable": true
   },
   "outputs": [
    {
     "name": "stdout",
     "output_type": "stream",
     "text": [
      "+-----+------+------+------+------+-------+----------+-------+-------+----------+------+-------+-----+--------+--------+-----+-------+-------+-------+-------+-------+--------+------+------+-------+------------+-----+--------+\n",
      "|cicid| i94yr|i94mon|i94cit|i94res|i94port|   arrdate|i94mode|i94addr|   depdate|i94bir|i94visa|count|dtadfile|visapost|occup|entdepa|entdepd|entdepu|matflag|biryear| dtaddto|gender|insnum|airline|      admnum|fltno|visatype|\n",
      "+-----+------+------+------+------+-------+----------+-------+-------+----------+------+-------+-----+--------+--------+-----+-------+-------+-------+-------+-------+--------+------+------+-------+------------+-----+--------+\n",
      "|  7.0|2016.0|   1.0| 101.0| 101.0|    BOS|2016-01-12|    1.0|     MA|      NULL|  20.0|    3.0|  1.0|      NA|      NA|   NA|      T|     NA|     NA|     NA| 1996.0|     D/S|     M|    NA|     LH|3.46608285E8|  424|      F1|\n",
      "|  8.0|2016.0|   1.0| 101.0| 101.0|    BOS|2016-01-12|    1.0|     MA|      NULL|  20.0|    3.0|  1.0|      NA|      NA|   NA|      T|     NA|     NA|     NA| 1996.0|     D/S|     M|    NA|     LH|3.46627585E8|  424|      F1|\n",
      "|  9.0|2016.0|   1.0| 101.0| 101.0|    BOS|2016-01-16|    1.0|     CT|2016-01-27|  17.0|    2.0|  1.0|      NA|      NA|   NA|      T|      N|     NA|      M| 1999.0|07152016|     F|    NA|     AF|3.81092385E8|  338|      B2|\n",
      "| 10.0|2016.0|   1.0| 101.0| 101.0|    BOS|2016-01-16|    1.0|     CT|2016-02-15|  45.0|    2.0|  1.0|      NA|      NA|   NA|      T|      N|     NA|      M| 1971.0|07152016|     F|    NA|     AF|3.81087885E8|  338|      B2|\n",
      "| 11.0|2016.0|   1.0| 101.0| 101.0|    BOS|2016-01-16|    1.0|     CT|2016-02-15|  12.0|    2.0|  1.0|      NA|      NA|   NA|      T|      N|     NA|      M| 2004.0|07152016|     M|    NA|     AF|3.81078685E8|  338|      B2|\n",
      "+-----+------+------+------+------+-------+----------+-------+-------+----------+------+-------+-----+--------+--------+-----+-------+-------+-------+-------+-------+--------+------+------+-------+------------+-----+--------+\n",
      "only showing top 5 rows\n",
      "\n"
     ]
    }
   ],
   "source": [
    "#Convert date fields from SAS format to YYYY-MM-DD format\n",
    "epoch = DateTime.datetime(1960, 1, 1) \n",
    "get_date = udf(lambda x: epoch + DateTime.timedelta(days=x),Date())\n",
    "\n",
    "immigration_df_spark_clean = immigration_df_spark_clean\\\n",
    "                             .withColumn('arrdate', get_date('arrdate'))\\\n",
    "                             .withColumn('depdate', get_date('depdate'))\n",
    "\n",
    "#Reset previous depdate Null values\n",
    "immigration_df_spark_clean = immigration_df_spark_clean\\\n",
    "                             .withColumn('depdate', when(col(\"depdate\") == \"1960-01-01\", \"NULL\")\\\n",
    "                             .otherwise(col(\"depdate\"))) \n",
    "immigration_df_spark_clean.show(5)   "
   ]
  },
  {
   "cell_type": "markdown",
   "metadata": {
    "editable": true
   },
   "source": [
    "#### 2.2.2 Clean I94 port data"
   ]
  },
  {
   "cell_type": "code",
   "execution_count": 35,
   "metadata": {
    "editable": true
   },
   "outputs": [
    {
     "name": "stdout",
     "output_type": "stream",
     "text": [
      "+-------+--------------------+---------------+\n",
      "|i94port|           port_name|port_state_code|\n",
      "+-------+--------------------+---------------+\n",
      "|    ALC|               ALCAN|             AK|\n",
      "|    ANC|           ANCHORAGE|             AK|\n",
      "|    BAR|BAKER AAF - BAKER...|             AK|\n",
      "|    DAC|       DALTONS CACHE|             AK|\n",
      "|    PIZ|DEW STATION PT LA...|             AK|\n",
      "+-------+--------------------+---------------+\n",
      "only showing top 5 rows\n",
      "\n"
     ]
    }
   ],
   "source": [
    "ports_df_spark_clean = ports_df_spark\\\n",
    "                       .withColumn('port_state_code',when(isnan('port_state_code'),'XXX')\\\n",
    "                       .otherwise(col(\"port_state_code\")))\n",
    "ports_df_spark_clean.show(5)  "
   ]
  },
  {
   "cell_type": "markdown",
   "metadata": {
    "editable": true
   },
   "source": [
    "#### 2.2.3 Clean I94 city_demographic data"
   ]
  },
  {
   "cell_type": "code",
   "execution_count": 36,
   "metadata": {
    "editable": true
   },
   "outputs": [
    {
     "name": "stdout",
     "output_type": "stream",
     "text": [
      "+----------------+-------------+----------+---------------+-----------------+----------------+------------------+------------+----------------------+----------+--------------------+-----+\n",
      "|            city|        state|median_age|male_population|female_population|total_population|number_of_veterans|foreign_born|average_household_size|state_code|                race|count|\n",
      "+----------------+-------------+----------+---------------+-----------------+----------------+------------------+------------+----------------------+----------+--------------------+-----+\n",
      "|   Silver Spring|     Maryland|      33.8|          40601|            41862|           82463|              1562|       30908|                   2.6|        MD|  Hispanic or Latino|25924|\n",
      "|          Quincy|Massachusetts|      41.0|          44129|            49500|           93629|              4147|       32935|                  2.39|        MA|               White|58723|\n",
      "|          Hoover|      Alabama|      38.5|          38040|            46799|           84839|              4819|        8229|                  2.58|        AL|               Asian| 4759|\n",
      "|Rancho Cucamonga|   California|      34.5|          88127|            87105|          175232|              5821|       33878|                  3.18|        CA|Black or African-...|24437|\n",
      "|          Newark|   New Jersey|      34.6|         138040|           143873|          281913|              5829|       86253|                  2.73|        NJ|               White|76402|\n",
      "+----------------+-------------+----------+---------------+-----------------+----------------+------------------+------------+----------------------+----------+--------------------+-----+\n",
      "only showing top 5 rows\n",
      "\n"
     ]
    }
   ],
   "source": [
    "city_demographics_df_spark_clean = city_demographics_df_spark\\\n",
    "                                   .withColumn('average_household_size',when(col('average_household_size').isNull(),0.0)\\\n",
    "                                   .otherwise(col(\"average_household_size\")))\n",
    "\n",
    "columns = ['male_population','female_population','foreign_born','number_of_veterans']\n",
    "for column in columns:\n",
    "    city_demographics_df_spark_clean = city_demographics_df_spark_clean\\\n",
    "                                       .withColumn(column,when(col(column).isNull(),0)\\\n",
    "                                       .otherwise(col(column)))\n",
    "\n",
    "city_demographics_df_spark_clean.show(5) "
   ]
  },
  {
   "cell_type": "markdown",
   "metadata": {
    "editable": true
   },
   "source": [
    "### Step 3: Define the Data Model\n",
    "#### 3.1 Conceptual Data Model\n",
    "Map out the conceptual data model and explain why you chose that model"
   ]
  },
  {
   "cell_type": "markdown",
   "metadata": {
    "editable": true
   },
   "source": [
    "The immigration model is a star schema dimensional data model with 1 fact table and 3 dimension tables.\n",
    "The star schema was chosen to allow for quick querying of the data through de-normalized tables,\n",
    "which are easier for business users to understand.\n",
    "\n",
    "* Fact table:\n",
    " * fact_immigration\n",
    "   * Primary key: immigration_id\n",
    "   * Foreign keys: arrival_date, port_state_code, admission_number\n",
    "  \n",
    "      \n",
    "* Dimension tables:\n",
    " * dim_admissions\n",
    "   * Primary key: admission_number \n",
    " * dim_state_demographics\n",
    "   * Primary key: State_Code \n",
    " * dim_date\n",
    "   * Primary key: date \n",
    "      \n",
    "![Immigration Model - Dimensional Tables](./dimensional_tables.png)\n",
    "\n",
    "\n",
    "![Immigration Model - Staging Tables](./staging_tables.png)"
   ]
  },
  {
   "cell_type": "markdown",
   "metadata": {
    "editable": true
   },
   "source": [
    "#### 3.2 Mapping Out Data Pipelines\n",
    "List the steps necessary to pipeline the data into the chosen data model"
   ]
  },
  {
   "cell_type": "markdown",
   "metadata": {
    "editable": true
   },
   "source": [
    "To build the model, a python script 'etl.py' needs to be run.\n",
    "\n",
    "Below is the description of steps to pipeline the data in the python file:\n",
    " 1. Read dl.cfg config file to retrieve file paths and AWS access keys if required.\n",
    " 2. i94 immigration data and U.S. city demographic data is read into Pandas dataframes, which are then read into Spark dataframes and then stored as     staging tables in parquet format.\n",
    " 3. Staging parquet files are read into Spark dataframes, data is cleaned, aggregated and joined where required to create the dimensional tables,         which are also stored in parquet format.\n",
    " 4. dim_state_demographics is created first by aggregating the city_demographic staging table.\n",
    " 5. dim_admissions is created next by joining the immigrations staging table to the countries staging table and selecting required columns.\n",
    " 6. dim_date is then created by retrieving and converting every arrival date in the immigrations staging table.\n",
    " 7. fact_immigrations is created last from the immigrations staging table.\n",
    " 8. Once the dimensional tables have been created, data quality checks are performed to ensure the pipline ran as expected. "
   ]
  },
  {
   "cell_type": "markdown",
   "metadata": {
    "editable": true
   },
   "source": [
    "### Step 4: Run Pipelines to Model the Data \n",
    "#### 4.1 Create the data model\n",
    "Build the data pipelines to create the data model."
   ]
  },
  {
   "cell_type": "code",
   "execution_count": 37,
   "metadata": {
    "editable": true
   },
   "outputs": [
    {
     "name": "stdout",
     "output_type": "stream",
     "text": [
      "2020-04-02-14-25-08-128290\n"
     ]
    }
   ],
   "source": [
    "timestamp = datetime.now().strftime('%Y-%m-%d-%H-%M-%S-%f')\n",
    "print(timestamp)"
   ]
  },
  {
   "cell_type": "markdown",
   "metadata": {
    "editable": true
   },
   "source": [
    "##### 4.1.1 dim_state_demographics"
   ]
  },
  {
   "cell_type": "code",
   "execution_count": 38,
   "metadata": {
    "editable": true
   },
   "outputs": [
    {
     "name": "stdout",
     "output_type": "stream",
     "text": [
      "root\n",
      " |-- State_Code: string (nullable = true)\n",
      " |-- State: string (nullable = true)\n",
      " |-- median_age: decimal(9,2) (nullable = true)\n",
      " |-- male_population: long (nullable = true)\n",
      " |-- female_population: long (nullable = true)\n",
      " |-- total_population: long (nullable = true)\n",
      " |-- average_household_size: decimal(9,2) (nullable = true)\n",
      "\n",
      "+----------+----------+----------+---------------+-----------------+----------------+----------------------+\n",
      "|State_Code|     State|median_age|male_population|female_population|total_population|average_household_size|\n",
      "+----------+----------+----------+---------------+-----------------+----------------+----------------------+\n",
      "|        AL|   Alabama|     36.16|        2448200|          2715106|         5163306|                  2.43|\n",
      "|        AK|    Alaska|     32.20|         764725|           728750|         1493475|                  2.77|\n",
      "|        AZ|   Arizona|     35.04|       11137275|         11360435|        22497710|                  2.77|\n",
      "|        AR|  Arkansas|     32.74|        1400724|          1482165|         2882889|                  2.53|\n",
      "|        CA|California|     36.17|       61055672|         62388681|       123444353|                  3.10|\n",
      "+----------+----------+----------+---------------+-----------------+----------------+----------------------+\n",
      "only showing top 5 rows\n",
      "\n"
     ]
    }
   ],
   "source": [
    "city_demographics_df_spark_clean.createOrReplaceTempView(\"dim_state_demographics\")\n",
    "dim_state_demographics = spark.sql(\"\"\"\n",
    "    SELECT distinct\n",
    "        State_Code,\n",
    "        State,\n",
    "        avg(median_age) as median_age,\n",
    "        sum(male_population) as male_population,\n",
    "        sum(female_population) as female_population,\n",
    "        sum(total_population) as total_population,\n",
    "        avg(average_household_size) as average_household_size\n",
    "    FROM \n",
    "        dim_state_demographics\n",
    "    group by\n",
    "        State_Code,\n",
    "        State\n",
    "    order by State\n",
    "\"\"\") \n",
    "dim_state_demographics = dim_state_demographics\\\n",
    "                        .withColumn(\"median_age\", dim_state_demographics[\"median_age\"]\\\n",
    "                        .cast(DecimalType(9,2)))\\\n",
    "                        .withColumn(\"average_household_size\", dim_state_demographics[\"average_household_size\"]\\\n",
    "                        .cast(DecimalType(9,2))) \n",
    "dim_state_demographics.printSchema()\n",
    "dim_state_demographics.show(5)"
   ]
  },
  {
   "cell_type": "code",
   "execution_count": 39,
   "metadata": {
    "editable": true
   },
   "outputs": [
    {
     "name": "stdout",
     "output_type": "stream",
     "text": [
      "Output Path: data/output_data/model/dim_state_demographics.parquet_2020-04-02-14-25-08-128290\n"
     ]
    }
   ],
   "source": [
    "#Write dim_state_demographics to parquet file\n",
    "dim_state_demographics_path = output_data_model + \"dim_state_demographics.parquet\" + \"_\" + timestamp\n",
    "print(f\"Output Path: {dim_state_demographics_path}\")\n",
    "dim_state_demographics.write.parquet(dim_state_demographics_path, mode=\"overwrite\") "
   ]
  },
  {
   "cell_type": "markdown",
   "metadata": {
    "editable": true
   },
   "source": [
    "##### 4.1.2 dim_admissions"
   ]
  },
  {
   "cell_type": "code",
   "execution_count": 40,
   "metadata": {
    "editable": true
   },
   "outputs": [],
   "source": [
    "admissions_df_spark = immigration_df_spark_clean.join(countries_df_spark, \\\n",
    "    (immigration_df_spark_clean.i94cit == countries_df_spark.i94cit))"
   ]
  },
  {
   "cell_type": "code",
   "execution_count": 41,
   "metadata": {
    "editable": true
   },
   "outputs": [
    {
     "name": "stdout",
     "output_type": "stream",
     "text": [
      "root\n",
      " |-- admission_number: double (nullable = true)\n",
      " |-- country_name: string (nullable = true)\n",
      " |-- age: double (nullable = true)\n",
      " |-- visa_code: double (nullable = true)\n",
      " |-- gender: string (nullable = true)\n",
      " |-- visatype: string (nullable = true)\n",
      "\n",
      "+----------------+------------+----+---------+------+--------+\n",
      "|admission_number|country_name| age|visa_code|gender|visatype|\n",
      "+----------------+------------+----+---------+------+--------+\n",
      "|    2.90550485E8|     AUSTRIA|54.0|      1.0|     M|      WB|\n",
      "|    3.04135485E8|     AUSTRIA|29.0|      3.0|     F|      F1|\n",
      "|    4.42585085E8|     BELGIUM|20.0|      2.0|     M|      B2|\n",
      "|    3.01033485E8|    BULGARIA|24.0|      3.0|     F|      F1|\n",
      "|    3.16043985E8|      POLAND|29.0|      1.0|     M|      B1|\n",
      "+----------------+------------+----+---------+------+--------+\n",
      "only showing top 5 rows\n",
      "\n"
     ]
    }
   ],
   "source": [
    "admissions_df_spark.createOrReplaceTempView(\"dim_admissions\")\n",
    "dim_admissions = spark.sql(\"\"\"\n",
    "    SELECT distinct\n",
    "        admnum as admission_number,\n",
    "        country_name,\n",
    "        i94bir as age,\n",
    "        i94visa as visa_code,\n",
    "        gender,\n",
    "        visatype\n",
    "    FROM \n",
    "        dim_admissions\n",
    "\"\"\") \n",
    "dim_admissions.printSchema()\n",
    "dim_admissions.show(5)"
   ]
  },
  {
   "cell_type": "code",
   "execution_count": 42,
   "metadata": {
    "editable": true
   },
   "outputs": [
    {
     "name": "stdout",
     "output_type": "stream",
     "text": [
      "Output Path: data/output_data/model/dim_admissions.parquet_2020-04-02-14-25-08-128290\n"
     ]
    }
   ],
   "source": [
    "#Write dim_admissions to parquet file\n",
    "dim_admissions_path = output_data_model + \"dim_admissions.parquet\" + \"_\" + timestamp\n",
    "print(f\"Output Path: {dim_admissions_path}\")\n",
    "dim_admissions.write.parquet(dim_admissions_path, mode=\"overwrite\") "
   ]
  },
  {
   "cell_type": "markdown",
   "metadata": {
    "editable": true
   },
   "source": [
    "##### 4.1.3 dim_date"
   ]
  },
  {
   "cell_type": "code",
   "execution_count": 43,
   "metadata": {
    "editable": true
   },
   "outputs": [
    {
     "name": "stdout",
     "output_type": "stream",
     "text": [
      "root\n",
      " |-- date: date (nullable = true)\n",
      " |-- day: integer (nullable = true)\n",
      " |-- month: integer (nullable = true)\n",
      " |-- year: integer (nullable = true)\n",
      " |-- week: integer (nullable = true)\n",
      " |-- weekday: integer (nullable = true)\n",
      "\n",
      "+----------+---+-----+----+----+-------+\n",
      "|      date|day|month|year|week|weekday|\n",
      "+----------+---+-----+----+----+-------+\n",
      "|2016-01-16| 16|    1|2016|   2|      7|\n",
      "|2016-01-03|  3|    1|2016|  53|      1|\n",
      "|2016-01-14| 14|    1|2016|   2|      5|\n",
      "|2016-01-07|  7|    1|2016|   1|      5|\n",
      "|2016-01-10| 10|    1|2016|   1|      1|\n",
      "+----------+---+-----+----+----+-------+\n",
      "only showing top 5 rows\n",
      "\n"
     ]
    }
   ],
   "source": [
    "immigration_df_spark_clean.createOrReplaceTempView(\"dim_date\")\n",
    "dim_date = spark.sql(\"\"\"\n",
    "    SELECT distinct\n",
    "        arrdate as date,\n",
    "        day(arrdate) as day, \n",
    "        month(arrdate) as month,\n",
    "        year(arrdate) as year,\n",
    "        weekofyear(arrdate) as week,\n",
    "        dayofweek(arrdate) as weekday\n",
    "    FROM \n",
    "        dim_date\n",
    "\"\"\") \n",
    "dim_date.printSchema()\n",
    "dim_date.show(5)"
   ]
  },
  {
   "cell_type": "code",
   "execution_count": 44,
   "metadata": {
    "editable": true
   },
   "outputs": [
    {
     "name": "stdout",
     "output_type": "stream",
     "text": [
      "Output Path: data/output_data/model/dim_date.parquet_2020-04-02-14-25-08-128290\n"
     ]
    }
   ],
   "source": [
    "#Write dim_date to parquet file\n",
    "dim_date_path = output_data_model + \"dim_date.parquet\" + \"_\" + timestamp\n",
    "print(f\"Output Path: {dim_date_path}\")\n",
    "dim_date.write.parquet(dim_date_path, mode=\"overwrite\") "
   ]
  },
  {
   "cell_type": "markdown",
   "metadata": {
    "editable": true
   },
   "source": [
    "##### 4.1.4 fact_immigrations"
   ]
  },
  {
   "cell_type": "code",
   "execution_count": 45,
   "metadata": {
    "editable": true
   },
   "outputs": [],
   "source": [
    "immigration_df_spark_joined = immigration_df_spark_clean.join(ports_df_spark_clean, \\\n",
    "(immigration_df_spark_clean.i94port == ports_df_spark_clean.i94port))"
   ]
  },
  {
   "cell_type": "code",
   "execution_count": 46,
   "metadata": {
    "editable": true
   },
   "outputs": [],
   "source": [
    "immigration_df_spark_joined = immigration_df_spark_joined\\\n",
    "                              .withColumn(\"immigration_id\", monotonically_increasing_id()) "
   ]
  },
  {
   "cell_type": "code",
   "execution_count": 47,
   "metadata": {
    "editable": true
   },
   "outputs": [
    {
     "name": "stdout",
     "output_type": "stream",
     "text": [
      "root\n",
      " |-- immigration_id: long (nullable = false)\n",
      " |-- arrival_date: date (nullable = true)\n",
      " |-- port_name: string (nullable = true)\n",
      " |-- port_state_code: string (nullable = true)\n",
      " |-- mode_of_transport: double (nullable = true)\n",
      " |-- local_address_state_code: string (nullable = true)\n",
      " |-- departure_date: string (nullable = true)\n",
      " |-- admission_number: double (nullable = true)\n",
      " |-- airline: string (nullable = true)\n",
      " |-- flight_number: string (nullable = true)\n",
      "\n",
      "+--------------+------------+---------------+---------------+-----------------+------------------------+--------------+----------------+-------+-------------+\n",
      "|immigration_id|arrival_date|      port_name|port_state_code|mode_of_transport|local_address_state_code|departure_date|admission_number|airline|flight_number|\n",
      "+--------------+------------+---------------+---------------+-----------------+------------------------+--------------+----------------+-------+-------------+\n",
      "|           523|  2016-01-09|         BOSTON|             MA|              1.0|                      MA|    2016-04-08|    3.27167685E8|     LH|          424|\n",
      "|          1026|  2016-01-07|        ORLANDO|             FL|              1.0|                      FL|    2016-01-12|    3.15970585E8|     LH|          464|\n",
      "|          1042|  2016-01-26|          TAMPA|             FL|              1.0|                      LA|          NULL|    4.25065885E8|     WK|            4|\n",
      "|          1273|  2016-01-15|FORT LAUDERDALE|             FL|              1.0|                      FL|    2016-01-16|    2.43722585E8|     UP|          101|\n",
      "|          1341|  2016-01-19|        CHICAGO|             IL|              1.0|                      NV|    2016-01-22|    3.94370285E8|     LH|          430|\n",
      "+--------------+------------+---------------+---------------+-----------------+------------------------+--------------+----------------+-------+-------------+\n",
      "only showing top 5 rows\n",
      "\n"
     ]
    }
   ],
   "source": [
    "immigration_df_spark_joined.createOrReplaceTempView(\"fact_immigrations\")\n",
    "fact_immigrations = spark.sql(\"\"\"\n",
    "    SELECT distinct\n",
    "        immigration_id,\n",
    "        arrdate as arrival_date,\n",
    "        port_name,\n",
    "        port_state_code,\n",
    "        i94mode as mode_of_transport,\n",
    "        i94addr local_address_state_code,\n",
    "        depdate as departure_date,\n",
    "        admnum as admission_number,\n",
    "        airline,\n",
    "        fltno as flight_number\n",
    "    FROM \n",
    "        fact_immigrations\n",
    "\"\"\") \n",
    "fact_immigrations.printSchema()\n",
    "fact_immigrations.show(5)"
   ]
  },
  {
   "cell_type": "code",
   "execution_count": 48,
   "metadata": {
    "editable": true
   },
   "outputs": [
    {
     "name": "stdout",
     "output_type": "stream",
     "text": [
      "Output Path: data/output_data/model/fact_immigrations.parquet_2020-04-02-14-25-08-128290\n"
     ]
    }
   ],
   "source": [
    "#Write fact_immigrations to parquet file\n",
    "fact_immigrations_path = output_data_model + \"fact_immigrations.parquet\" + \"_\" + timestamp\n",
    "print(f\"Output Path: {fact_immigrations_path}\")\n",
    "fact_immigrations.write.parquet(fact_immigrations_path, mode=\"overwrite\") "
   ]
  },
  {
   "cell_type": "markdown",
   "metadata": {
    "editable": true
   },
   "source": [
    "#### 4.2 Data Quality Checks\n",
    "Explain the data quality checks you'll perform to ensure the pipeline ran as expected. These could include:\n",
    " * Integrity constraints on the relational database (e.g., unique key, data type, etc.)\n",
    " * Unit tests for the scripts to ensure they are doing the right thing\n",
    " * Source/Count checks to ensure completeness\n",
    " \n",
    "The following Data Quality checks will be applied:\n",
    " * All dimensional tables should have data populated (Rowcount > 0)\n",
    " * Integrity constraints - Foreign keys and their associated Primary keys should be populated. "
   ]
  },
  {
   "cell_type": "code",
   "execution_count": 49,
   "metadata": {
    "editable": true
   },
   "outputs": [],
   "source": [
    "data_quality_check = { \"timestamp\": timestamp,\n",
    "            \"dim_state_demographics_count\": 0,\n",
    "            \"dim_state_demographics_check\": \"\",\n",
    "            \"dim_admissions_count\": 0,\n",
    "            \"dim_admissions_check\": \"\",\n",
    "            \"dim_date_count\": 0, \n",
    "            \"dim_date_check\": \"\",\n",
    "            \"fact_immigrations_count\": 0,\n",
    "            \"fact_immigrations_check\": \"\" }"
   ]
  },
  {
   "cell_type": "markdown",
   "metadata": {
    "editable": true
   },
   "source": [
    "#### 4.2.1 Check state_demographics data"
   ]
  },
  {
   "cell_type": "code",
   "execution_count": 50,
   "metadata": {
    "editable": true
   },
   "outputs": [
    {
     "data": {
      "text/plain": [
       "49"
      ]
     },
     "execution_count": 50,
     "metadata": {},
     "output_type": "execute_result"
    }
   ],
   "source": [
    "dim_state_demographics.createOrReplaceTempView(\"dim_state_demographics_check\")\n",
    "dim_state_demographics_check_count = spark.sql(\"\"\"\n",
    "    SELECT\n",
    "        count(1) as count\n",
    "    FROM \n",
    "        dim_state_demographics_check\n",
    "\"\"\")\n",
    "dim_state_demographics_check_count.collect()[0][0]"
   ]
  },
  {
   "cell_type": "code",
   "execution_count": 51,
   "metadata": {
    "editable": true
   },
   "outputs": [
    {
     "data": {
      "text/plain": [
       "0"
      ]
     },
     "execution_count": 51,
     "metadata": {},
     "output_type": "execute_result"
    }
   ],
   "source": [
    "dim_state_demographics.createOrReplaceTempView(\"dim_state_demographics_check\")\n",
    "dim_state_demographics_check_missing = spark.sql(\"\"\"\n",
    "    SELECT distinct\n",
    "        count(1) as count\n",
    "    FROM \n",
    "        dim_state_demographics_check\n",
    "    where\n",
    "        state_code IS NULL or state_code == \"\" or state_code == \"NaN\"\n",
    "\"\"\")\n",
    "dim_state_demographics_check_missing.collect()[0][0]"
   ]
  },
  {
   "cell_type": "code",
   "execution_count": 52,
   "metadata": {
    "editable": true
   },
   "outputs": [
    {
     "data": {
      "text/plain": [
       "{'timestamp': '2020-04-02-14-25-08-128290',\n",
       " 'dim_state_demographics_count': 49,\n",
       " 'dim_state_demographics_check': 'OK',\n",
       " 'dim_admissions_count': 0,\n",
       " 'dim_admissions_check': '',\n",
       " 'dim_date_count': 0,\n",
       " 'dim_date_check': '',\n",
       " 'fact_immigrations_count': 0,\n",
       " 'fact_immigrations_check': ''}"
      ]
     },
     "execution_count": 52,
     "metadata": {},
     "output_type": "execute_result"
    }
   ],
   "source": [
    "if dim_state_demographics_check_count.collect()[0][0] < 1 or \\\n",
    "   dim_state_demographics_check_missing.collect()[0][0] > 0:\n",
    "    data_quality_check['dim_state_demographics_count'] = dim_state_demographics_check_count.collect()[0][0]\n",
    "    data_quality_check['dim_state_demographics_check'] = \"NOK\"\n",
    "else:\n",
    "    data_quality_check['dim_state_demographics_count'] = dim_state_demographics_check_count.collect()[0][0]\n",
    "    data_quality_check['dim_state_demographics_check'] = \"OK\"\n",
    "    \n",
    "data_quality_check"
   ]
  },
  {
   "cell_type": "markdown",
   "metadata": {
    "editable": true
   },
   "source": [
    "#### 4.2.2 Check dim_admissions data"
   ]
  },
  {
   "cell_type": "code",
   "execution_count": 53,
   "metadata": {
    "editable": true
   },
   "outputs": [
    {
     "data": {
      "text/plain": [
       "92279"
      ]
     },
     "execution_count": 53,
     "metadata": {},
     "output_type": "execute_result"
    }
   ],
   "source": [
    "dim_admissions.createOrReplaceTempView(\"dim_admissions_check\")\n",
    "dim_admissions_check_count = spark.sql(\"\"\"\n",
    "    SELECT\n",
    "        count(1) as count\n",
    "    FROM \n",
    "        dim_admissions_check\n",
    "\"\"\")\n",
    "dim_admissions_check_count.collect()[0][0]"
   ]
  },
  {
   "cell_type": "code",
   "execution_count": 54,
   "metadata": {
    "editable": true
   },
   "outputs": [
    {
     "data": {
      "text/plain": [
       "0"
      ]
     },
     "execution_count": 54,
     "metadata": {},
     "output_type": "execute_result"
    }
   ],
   "source": [
    "dim_admissions.createOrReplaceTempView(\"dim_admissions_check\")\n",
    "dim_admissions_check_missing = spark.sql(\"\"\"\n",
    "    SELECT distinct\n",
    "        count(1) as count\n",
    "    FROM \n",
    "        dim_admissions_check\n",
    "    where\n",
    "        admission_number IS NULL or admission_number == \"\" or admission_number == \"NaN\" or admission_number = 0.0\n",
    "\"\"\")\n",
    "dim_admissions_check_missing.collect()[0][0]"
   ]
  },
  {
   "cell_type": "code",
   "execution_count": 55,
   "metadata": {
    "editable": true
   },
   "outputs": [
    {
     "data": {
      "text/plain": [
       "{'timestamp': '2020-04-02-14-25-08-128290',\n",
       " 'dim_state_demographics_count': 49,\n",
       " 'dim_state_demographics_check': 'OK',\n",
       " 'dim_admissions_count': 92279,\n",
       " 'dim_admissions_check': 'OK',\n",
       " 'dim_date_count': 0,\n",
       " 'dim_date_check': '',\n",
       " 'fact_immigrations_count': 0,\n",
       " 'fact_immigrations_check': ''}"
      ]
     },
     "execution_count": 55,
     "metadata": {},
     "output_type": "execute_result"
    }
   ],
   "source": [
    "if dim_admissions_check_count.collect()[0][0] < 1 or \\\n",
    "   dim_admissions_check_missing.collect()[0][0] > 0:\n",
    "    data_quality_check['dim_admissions_count'] = dim_admissions_check_count.collect()[0][0]\n",
    "    data_quality_check['dim_admissions_check'] = \"NOK\"\n",
    "else:\n",
    "    data_quality_check['dim_admissions_count'] = dim_admissions_check_count.collect()[0][0]\n",
    "    data_quality_check['dim_admissions_check'] = \"OK\"\n",
    "    \n",
    "data_quality_check"
   ]
  },
  {
   "cell_type": "markdown",
   "metadata": {
    "editable": true
   },
   "source": [
    "#### 4.2.3 Check dim_date data"
   ]
  },
  {
   "cell_type": "code",
   "execution_count": 56,
   "metadata": {
    "editable": true
   },
   "outputs": [
    {
     "data": {
      "text/plain": [
       "31"
      ]
     },
     "execution_count": 56,
     "metadata": {},
     "output_type": "execute_result"
    }
   ],
   "source": [
    "dim_date.createOrReplaceTempView(\"dim_date_check\")\n",
    "dim_date_check_count = spark.sql(\"\"\"\n",
    "    SELECT\n",
    "        count(1) as count\n",
    "    FROM \n",
    "       dim_date_check\n",
    "\"\"\")\n",
    "dim_date_check_count.collect()[0][0]"
   ]
  },
  {
   "cell_type": "code",
   "execution_count": 57,
   "metadata": {
    "editable": true
   },
   "outputs": [
    {
     "data": {
      "text/plain": [
       "{'timestamp': '2020-04-02-14-25-08-128290',\n",
       " 'dim_state_demographics_count': 49,\n",
       " 'dim_state_demographics_check': 'OK',\n",
       " 'dim_admissions_count': 92279,\n",
       " 'dim_admissions_check': 'OK',\n",
       " 'dim_date_count': 31,\n",
       " 'dim_date_check': 'OK',\n",
       " 'fact_immigrations_count': 0,\n",
       " 'fact_immigrations_check': ''}"
      ]
     },
     "execution_count": 57,
     "metadata": {},
     "output_type": "execute_result"
    }
   ],
   "source": [
    "if dim_date_check_count.collect()[0][0] < 1:\n",
    "    data_quality_check['dim_date_count'] = dim_date_check_count.collect()[0][0]\n",
    "    data_quality_check['dim_date_check'] = \"NOK\"\n",
    "else:\n",
    "    data_quality_check['dim_date_count'] = dim_date_check_count.collect()[0][0]\n",
    "    data_quality_check['dim_date_check'] = \"OK\"\n",
    "    \n",
    "data_quality_check"
   ]
  },
  {
   "cell_type": "markdown",
   "metadata": {
    "editable": true
   },
   "source": [
    "#### 4.2.4 Check fact_immigrations data"
   ]
  },
  {
   "cell_type": "code",
   "execution_count": 58,
   "metadata": {
    "editable": true
   },
   "outputs": [
    {
     "data": {
      "text/plain": [
       "100000"
      ]
     },
     "execution_count": 58,
     "metadata": {},
     "output_type": "execute_result"
    }
   ],
   "source": [
    "fact_immigrations.createOrReplaceTempView(\"fact_immigrations_check\")\n",
    "fact_immigrations_check_count = spark.sql(\"\"\"\n",
    "    SELECT\n",
    "        count(1) as count\n",
    "    FROM \n",
    "        fact_immigrations_check\n",
    "\"\"\")\n",
    "fact_immigrations_check_count.collect()[0][0]"
   ]
  },
  {
   "cell_type": "code",
   "execution_count": 59,
   "metadata": {
    "editable": true
   },
   "outputs": [
    {
     "data": {
      "text/plain": [
       "0"
      ]
     },
     "execution_count": 59,
     "metadata": {},
     "output_type": "execute_result"
    }
   ],
   "source": [
    "fact_immigrations.createOrReplaceTempView(\"fact_immigrations_check\")\n",
    "fact_immigrations_check_missing = spark.sql(\"\"\"\n",
    "    SELECT distinct\n",
    "        count(1) as count\n",
    "    FROM \n",
    "        fact_immigrations_check\n",
    "    where\n",
    "        arrival_date IS NULL or arrival_date == \"\" or arrival_date == \"NaN\" or\n",
    "        port_state_code IS NULL or port_state_code == \"\" or port_state_code == \"NaN\" or\n",
    "        admission_number IS NULL or admission_number == \"\" or admission_number == \"NaN\" or admission_number = 0.0\n",
    "\"\"\")\n",
    "fact_immigrations_check_missing.collect()[0][0]"
   ]
  },
  {
   "cell_type": "code",
   "execution_count": 60,
   "metadata": {
    "editable": true
   },
   "outputs": [
    {
     "data": {
      "text/plain": [
       "{'timestamp': '2020-04-02-14-25-08-128290',\n",
       " 'dim_state_demographics_count': 49,\n",
       " 'dim_state_demographics_check': 'OK',\n",
       " 'dim_admissions_count': 92279,\n",
       " 'dim_admissions_check': 'OK',\n",
       " 'dim_date_count': 31,\n",
       " 'dim_date_check': 'OK',\n",
       " 'fact_immigrations_count': 100000,\n",
       " 'fact_immigrations_check': 'OK'}"
      ]
     },
     "execution_count": 60,
     "metadata": {},
     "output_type": "execute_result"
    }
   ],
   "source": [
    "if fact_immigrations_check_count.collect()[0][0] < 1 or\\\n",
    "   fact_immigrations_check_missing.collect()[0][0] > 0:\n",
    "    data_quality_check['fact_immigrations_count'] = fact_immigrations_check_count.collect()[0][0]\n",
    "    data_quality_check['fact_immigrations_check'] = \"NOK\"\n",
    "else:\n",
    "    data_quality_check['fact_immigrations_count'] = fact_immigrations_check_count.collect()[0][0]\n",
    "    data_quality_check['fact_immigrations_check'] = \"OK\"\n",
    "    \n",
    "data_quality_check"
   ]
  },
  {
   "cell_type": "markdown",
   "metadata": {
    "editable": true
   },
   "source": [
    "#### 4.3 Data dictionary \n",
    "Create a data dictionary for your data model. \n",
    "\n",
    "##### dim_state_demographics\n",
    "Dimension Table: dim_state_demographics\n",
    "\n",
    "Provides population statistics on states in the U.S.\n",
    "The data was aggregated from city demographic data to state level.\n",
    "\n",
    "* State_Code: Primary key. Two-digit alphabetic code to define the state\n",
    "* State: Name of the state in U.S.\n",
    "* median_age: Median age of the population in the state\n",
    "* male_population: Number of men in the state\n",
    "* female_population: Number of women in the state\n",
    "* total_population: Number of people in the state\n",
    "* average_household_size: Average size of households in the state \n",
    "\n",
    "\n",
    "\n",
    "##### dim_admissions\n",
    "Dimension Table: dim_admissions\n",
    "\n",
    "Provides details of immigrants admitted into the U.S.\n",
    "The data was processed from the original I94 Immigrations data.\n",
    " \n",
    "* admission_number: Primary key. U.S. admission number provided when entering the country\n",
    "* country_name: Name of the country of citizenship\n",
    "* age: Age of person entering the country\n",
    "* visa_code: Code of visa categories: 1=Business, 2=Business, 3=Student.\n",
    "* gender: Non-immigrant sex \n",
    "* visatype: Class of admission legally admitting the non-immigrant to temporarily stay in U.S.\n",
    "\n",
    "\n",
    "\n",
    "##### dim_date\n",
    "Dimension Table: dim_date\n",
    "\n",
    "Provides details of immigration date events.\n",
    "The data was extracted from the original I94 Immigrations data.\n",
    " \n",
    "* date: Primary key. Date when person was granted entry into the U.S.\n",
    "* day: Day of the month from the date field (Numeric)\n",
    "* month: Month of the year from the date field (Numeric)\n",
    "* year: Year from the date field. \n",
    "* week: Week of the month from the date field (Numeric) \n",
    "* weekday: Day of the week from the date field (Numeric)\n",
    "\n",
    "\n",
    "\n",
    "##### fact_immigration\n",
    "\n",
    "Provides details of immigration events.\n",
    "The data was processed from the original I94 Immigrations data.\n",
    "\n",
    "* immigration_id: Primary key. Unique ID generated for an immigration event.\n",
    "* arrival_date: Date of arrival into the country\n",
    "* port_name: Name of the port of entry\n",
    "* port_state_code: Two-digit alphabetic code to define the state of the port of entry\n",
    "* mode_of_transport:  Mode of transport for entry: 1=Air, 2=Sea, 3=Land, 9=Not reported.\n",
    "* local_address_state_code: Two-digit alphabetic code to define the state where immigrant is staying\n",
    "* departure_date: Date of departure from the country. Null indicates the person has not departed yet\n",
    "* admission_number: U.S. admission number provided when entering the country\n",
    "* airline: Airline used to enter the country\n",
    "* flight_number: Flight number of the airline used to enter the country"
   ]
  },
  {
   "cell_type": "markdown",
   "metadata": {
    "editable": true
   },
   "source": [
    "#### Step 5: Complete Project Write Up"
   ]
  },
  {
   "cell_type": "markdown",
   "metadata": {
    "editable": true
   },
   "source": [
    "Clearly state the rationale for the choice of tools and technologies for the project.\n",
    " * Python (with Pandas and PySpark libraries) were used to import and process the data. Python has rich libraries and Spark is very fast at    processing data. Together, they had all the necessary functionality to quickly and fairly easily import, analyze and process large datasets."
   ]
  },
  {
   "cell_type": "markdown",
   "metadata": {
    "editable": true
   },
   "source": [
    "Propose how often the data should be updated and why.\n",
    " * I would suggest once a month, as it seems new 194 immigration datasets are released every month."
   ]
  },
  {
   "cell_type": "markdown",
   "metadata": {
    "editable": true
   },
   "source": [
    "Write a description of how you would approach the problem differently under the following scenarios:\n",
    " 1. The data was increased by 100x. \n",
    "  * The input and output data should be stored on cloud storage, such as AWS S3.\n",
    "  * Spark on a distributed cluster should be used to process the data.\n",
    "  * Staging and dimensional tables should be stored on a cloud data warehouse, such as AWS Redshift. \n",
    "\n",
    "\n",
    " 2. The data populates a dashboard that must be updated on a daily basis by 7am every day.\n",
    "  * Keep a subset of data for the latest month to be processed separately and scheduled to run daily through an Airflow DAG.\n",
    "\n",
    "\n",
    " 3. The database needed to be accessed by 100+ people.\n",
    "  * The input and output data should be stored on cloud storage, such as AWS S3.\n",
    "  * Staging and dimensional tables should be stored on a cloud data warehouse, such as AWS Redshift. \n",
    "  * Consider replication to nodes closer to the users to improve access speed."
   ]
  }
 ],
 "metadata": {
  "kernelspec": {
   "display_name": "Python 3",
   "language": "python",
   "name": "python3"
  },
  "language_info": {
   "codemirror_mode": {
    "name": "ipython",
    "version": 3
   },
   "file_extension": ".py",
   "mimetype": "text/x-python",
   "name": "python",
   "nbconvert_exporter": "python",
   "pygments_lexer": "ipython3",
   "version": "3.6.3"
  }
 },
 "nbformat": 4,
 "nbformat_minor": 4
}
